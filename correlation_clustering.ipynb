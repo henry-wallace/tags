{
 "cells": [
  {
   "cell_type": "markdown",
   "metadata": {},
   "source": [
    "# Preface"
   ]
  },
  {
   "cell_type": "markdown",
   "metadata": {},
   "source": [
    "This notebook goes over a method for clustering high dimensional data onto a two dimensional plane. I was frustrated at the resolution of SOM clustering."
   ]
  },
  {
   "cell_type": "markdown",
   "metadata": {},
   "source": [
    "# Problem Definition"
   ]
  },
  {
   "cell_type": "markdown",
   "metadata": {},
   "source": [
    "Suppose that we have data $Z=\\{z_1, ..., z_N\\}$, $z_i \\in \\mathbb{R}^D$ that we wish to project on to some 2-dimensional grid $G$. Each $z_i$ is mapped to a coordinate in $G$ via $g(z_i) \\mapsto x_i \\in G$. Suppose further that the $z_i$ have some symmetric distance function $d_1(z_i, z_j) \\mapsto \\mathbb{R}$, and the $x_i$ have the euclidean distance function $d_2$. Let $\\Sigma = \\bigcup_{i=1}^N \\bigcup_{j = i + 1}^N \\{(z_i, z_j)\\}$, i.e. the set of all 2-combination tuples of $Z$; and, $\n",
    "\\star$ denote [function mapping](https://reference.wolfram.com/language/howto/MapAFunctionOverAList.html).\n",
    "\n",
    "The goal is to maximize the correlation between sets $D_1 = d_1 \\star \\Sigma$ and $D_2 = d_2 \\star \\Sigma$. That is, we wish to make points that are close in the high-dimensional space (according to $d_1$) also be close on the grid (according to $d_2$), and same for far-away points. For now, we want to achieve maximum linear correlation and not something quadratic. If we would aim for the latter, then we would be exagerating distances in the high-dimensional space on the grid (which might be better, but we disregard it for simplicity's sake now). \n",
    "\n",
    "The correlation between two sets $A = \\{a_i\\}$ and $B = \\{b_i\\}$ is $$r_{AB} = \\frac{\\sum_{i}(a_i - \\bar{a})(b_i - \\bar{b})}{\\sqrt{\\sum_i(a_i - \\bar{a})^2 \\sum_i(b_i - \\bar{b})^2}} $$\n",
    "and in our case it could be that $A = D_1$ and $B = D_2$. We wish to optimize this $r_{D_1D_2}$ over the variables $d_2 \\star \\Sigma$ which are dependent on the coordinates $g \\star Z$. There would probably also be coordinate constraints, such as the size of the grid, which would further confound the problem. But as it stands, we simply need to maximize this function \n",
    "\n",
    "One idea initially comes to mind on how to solve this problem: initialize a random assignment to each $z_i$ within the constraints of the grid. Call this assignment $g$. We can then use a genetic algorithm whose initial population is a random collection of different $g_i$. The fitness function is then simply the correlation cofficient, and we wish to maximize this coefficient. I will experiment with that now."
   ]
  },
  {
   "cell_type": "markdown",
   "metadata": {},
   "source": [
    "# Sovling with a Genetic Algorithm"
   ]
  },
  {
   "cell_type": "markdown",
   "metadata": {},
   "source": [
    "There exists several very good genetic algorithm libaries for Python, notably `deap`. For some reason Python 3 isn't working properly on Wakari.io, so instead I'll just be using Python 2. Bleh. I'll start off by experimenting with clustering colors, which are just 3-dimensional vectors (our high-dimesnional vectors). So, to do that let's generate our set $Z$."
   ]
  },
  {
   "cell_type": "markdown",
   "metadata": {},
   "source": [
    "And note that for the following code, I took inspiration from these sources:\n",
    "- [OneMax Problem](http://nbviewer.ipython.org/github/DEAP/notebooks/blob/master/OneMax.ipynb)\n",
    "- [Using genetic algorithms to solve the traveling salesperson problem](http://nbviewer.ipython.org/github/lmarti/evolutionary-computation-course/blob/master/AEC.03%20-%20Solving%20the%20TSP%20with%20GAs.ipynb)\n",
    "- [Color Difference between 2 colors using Python](http://snapower-opencv.tumblr.com/post/101669832648/color-difference-between-2-colors-using-python)"
   ]
  },
  {
   "cell_type": "markdown",
   "metadata": {},
   "source": [
    "### Defining >2-dimensional vectors"
   ]
  },
  {
   "cell_type": "code",
   "execution_count": 3,
   "metadata": {
    "collapsed": false
   },
   "outputs": [
    {
     "data": {
      "image/png": "[encoded data removed]",
      "text/plain": [
       "<matplotlib.figure.Figure at 0x10fe5c3c8>"
      ]
     },
     "metadata": {},
     "output_type": "display_data"
    }
   ],
   "source": [
    "%matplotlib inline\n",
    "import matplotlib.pyplot as plt\n",
    "import numpy as np\n",
    "\n",
    "NCOLORS = 30\n",
    "\n",
    "np.random.seed(42)\n",
    "colors = np.random.rand(1, NCOLORS, 3)    # 16 RGB vectors\n",
    "\n",
    "# and here's a quick hack to factor NCOLORs into a quasi-square product of two numbers\n",
    "x = int(NCOLORS**0.5)\n",
    "while NCOLORS % x != 0:\n",
    "    x -= 1\n",
    "y = NCOLORS//x\n",
    "\n",
    "plt.imshow(colors.reshape(x, y, 3), interpolation='nearest')\n",
    "plt.axis('off')\n",
    "plt.title('{}, 3-dimensional color vectors'.format(NCOLORS))\n",
    "plt.show()"
   ]
  },
  {
   "cell_type": "markdown",
   "metadata": {},
   "source": [
    "What distance between colors should we use? Apparently there's a long history on this topic, see the [Wikipedia article](http://en.wikipedia.org/wiki/Color_difference) and this cool post on [SNA Power Computer Vision](http://snapower-opencv.tumblr.com/post/101669832648/color-difference-between-2-colors-using-python). So I've installed the package `colormath` to take care of this, and I borrow code ideas from that latter post."
   ]
  },
  {
   "cell_type": "code",
   "execution_count": 4,
   "metadata": {
    "collapsed": false
   },
   "outputs": [],
   "source": [
    "from colormath.color_objects import sRGBColor, LabColor\n",
    "from colormath.color_conversions import convert_color\n",
    "from colormath.color_diff import delta_e_cie2000\n",
    "\n",
    "def rgb_diff(rgb1, rgb2):\n",
    "    c1_rgb, c2_rgb = sRGBColor(*rgb1), sRGBColor(*rgb2)\n",
    "    c1_lab, c2_lab = convert_color(c1_rgb, LabColor), convert_color(c2_rgb, LabColor)\n",
    "    return delta_e_cie2000(c1_lab, c2_lab)"
   ]
  },
  {
   "cell_type": "markdown",
   "metadata": {},
   "source": [
    "With $d_1$ we can now start to define our fitness functionm, which I'll call `corr`. Each individual in the population will be a list of coordinates on $G$. Remember that we want to maximize the correlation between all (symmetric) pairs of distances, between $d_1 \\star \\Sigma$ and $d_2 \\star \\Sigma$. Luckily Python's `itertools` package has a function `combinations()` that always spits out combinations in lexicographic order. So we can precompute those distances $d_1 \\star \\Sigma$:"
   ]
  },
  {
   "cell_type": "code",
   "execution_count": 5,
   "metadata": {
    "collapsed": false
   },
   "outputs": [
    {
     "data": {
      "text/plain": [
       "(1, 30, 3)"
      ]
     },
     "execution_count": 5,
     "metadata": {},
     "output_type": "execute_result"
    }
   ],
   "source": [
    "colors.shape"
   ]
  },
  {
   "cell_type": "code",
   "execution_count": 6,
   "metadata": {
    "collapsed": false
   },
   "outputs": [],
   "source": [
    "from itertools import combinations, chain\n",
    "\n",
    "z_distances = [rgb_diff(c1, c2) for c1, c2 in combinations(map(list, chain(*colors)), 2)]"
   ]
  },
  {
   "cell_type": "markdown",
   "metadata": {},
   "source": [
    "With that we can define `corr()`, our fitness function:"
   ]
  },
  {
   "cell_type": "code",
   "execution_count": 7,
   "metadata": {
    "collapsed": false
   },
   "outputs": [],
   "source": [
    "from scipy.spatial.distance import euclidean\n",
    "\n",
    "def corr(X):    # each individual is the list of coordinates X\n",
    "    x_distances = [euclidean(x1, x2) for x1, x2 in combinations(X, 2)]\n",
    "    return np.corrcoef(x_distances, z_distances)[0, 1],"
   ]
  },
  {
   "cell_type": "markdown",
   "metadata": {},
   "source": [
    "### Evolving a population of random coordinates"
   ]
  },
  {
   "cell_type": "code",
   "execution_count": 8,
   "metadata": {
    "collapsed": false
   },
   "outputs": [
    {
     "ename": "ImportError",
     "evalue": "No module named 'deap'",
     "output_type": "error",
     "traceback": [
      "\u001b[0;31m---------------------------------------------------------------------------\u001b[0m",
      "\u001b[0;31mImportError\u001b[0m                               Traceback (most recent call last)",
      "\u001b[0;32m<ipython-input-8-e7fee794bc44>\u001b[0m in \u001b[0;36m<module>\u001b[0;34m()\u001b[0m\n\u001b[0;32m----> 1\u001b[0;31m \u001b[0;32mfrom\u001b[0m \u001b[0mdeap\u001b[0m \u001b[0;32mimport\u001b[0m \u001b[0mbase\u001b[0m\u001b[0;34m,\u001b[0m \u001b[0mcreator\u001b[0m\u001b[0;34m,\u001b[0m \u001b[0mtools\u001b[0m\u001b[0;34m,\u001b[0m \u001b[0malgorithms\u001b[0m\u001b[0;34m\u001b[0m\u001b[0m\n\u001b[0m",
      "\u001b[0;31mImportError\u001b[0m: No module named 'deap'"
     ]
    }
   ],
   "source": [
    "from deap import base, creator, tools, algorithms"
   ]
  },
  {
   "cell_type": "code",
   "execution_count": null,
   "metadata": {
    "collapsed": false
   },
   "outputs": [],
   "source": [
    "creator.create('FitnessMax', base.Fitness, weights=(1.0,))\n",
    "creator.create('Individual', list, fitness=creator.FitnessMax)"
   ]
  },
  {
   "cell_type": "markdown",
   "metadata": {},
   "source": [
    "Each individual in a population is list of coordinates in our grid. For sake of simplicity let our grid be square and follow the bounds $0 \\le x, y < 1$."
   ]
  },
  {
   "cell_type": "code",
   "execution_count": null,
   "metadata": {
    "collapsed": false
   },
   "outputs": [],
   "source": [
    "toolbox = base.Toolbox()\n",
    "toolbox.register('coordinate', lambda: tuple(np.random.random(2)))\n",
    "toolbox.register('individual', tools.initRepeat, creator.Individual, toolbox.coordinate, n=NCOLORS)\n",
    "toolbox.register('population', tools.initRepeat, list, toolbox.individual)"
   ]
  },
  {
   "cell_type": "code",
   "execution_count": null,
   "metadata": {
    "collapsed": true
   },
   "outputs": [],
   "source": [
    "def mutate(individual, indpb):\n",
    "    for i in range(len(individual)):\n",
    "        if np.random.random() < indpb:\n",
    "            individual[i] = toolbox.coordinate()\n",
    "    return individual,"
   ]
  },
  {
   "cell_type": "code",
   "execution_count": null,
   "metadata": {
    "collapsed": false
   },
   "outputs": [],
   "source": [
    "toolbox.register('evaluate', corr)\n",
    "toolbox.register('mate', tools.cxTwoPoint)\n",
    "toolbox.register('mutate', mutate, indpb=0.5)\n",
    "toolbox.register('select', tools.selTournament, tournsize=3)"
   ]
  },
  {
   "cell_type": "markdown",
   "metadata": {},
   "source": [
    "And before we run the population, we're going to define some statistics that will be useful for seeing how the population evolved. Namely, the average and max fitness, and the highest fit individual for each generation. Aaand a simple multiprocessor for parallel evaluation."
   ]
  },
  {
   "cell_type": "code",
   "execution_count": null,
   "metadata": {
    "collapsed": false
   },
   "outputs": [],
   "source": [
    "stats = tools.Statistics()\n",
    "stats.register('avg_fit', lambda pop: np.mean([ind.fitness.values[0] for ind in pop]))\n",
    "stats.register('max_fit', lambda pop: max(ind.fitness.values[0] for ind in pop))\n",
    "stats.register('winner', lambda pop: max(pop, key=lambda ind: ind.fitness.values[0]))"
   ]
  },
  {
   "cell_type": "code",
   "execution_count": null,
   "metadata": {
    "collapsed": false
   },
   "outputs": [],
   "source": [
    "import multiprocessing\n",
    "\n",
    "pool = multiprocessing.Pool()\n",
    "toolbox.register('map', pool.map)"
   ]
  },
  {
   "cell_type": "code",
   "execution_count": null,
   "metadata": {
    "collapsed": false
   },
   "outputs": [],
   "source": [
    "%%time\n",
    "result, log = algorithms.eaSimple(toolbox.population(n=2000), toolbox,\n",
    "                             cxpb=0.6, mutpb=0.2,\n",
    "                             ngen=60, verbose=False,\n",
    "                             stats=stats)"
   ]
  },
  {
   "cell_type": "markdown",
   "metadata": {},
   "source": [
    "Now, to visualize an individual we need a function that plots the colors at the individuals coordinates. That is, each individual is some mapping $g$, and we need a function to see that $g$ in action."
   ]
  },
  {
   "cell_type": "code",
   "execution_count": null,
   "metadata": {
    "collapsed": false
   },
   "outputs": [],
   "source": [
    "def plot_individual(ind):\n",
    "    for i, (x, y) in enumerate(ind):\n",
    "        plt.scatter(x, y, c=colors[0, i, :], s=200, lw=0)\n",
    "    plt.title('Fitness of individual: {}'.format(round(corr(ind)[0], 3)))\n",
    "    plt.xlabel('x coordinate')\n",
    "    plt.ylabel('y coordinate')\n",
    "    plt.show()"
   ]
  },
  {
   "cell_type": "code",
   "execution_count": null,
   "metadata": {
    "collapsed": false
   },
   "outputs": [],
   "source": [
    "best_individual = tools.selBest(result, k=1)[0]\n",
    "plot_individual(best_individual)"
   ]
  },
  {
   "cell_type": "markdown",
   "metadata": {},
   "source": [
    "And now to plot the fitness over the course of its evolution."
   ]
  },
  {
   "cell_type": "code",
   "execution_count": null,
   "metadata": {
    "collapsed": false
   },
   "outputs": [],
   "source": [
    "plt.plot(log.select('max_fit'),'c-', log.select('avg_fit'), 'b-', antialiased=True)\n",
    "plt.title('Population fitness over time')\n",
    "plt.legend(('min fitness', 'mean fitness'), loc='lower right')\n",
    "plt.ylabel('corr fitness')\n",
    "plt.xlabel('generation')\n",
    "plt.show()"
   ]
  },
  {
   "cell_type": "markdown",
   "metadata": {},
   "source": [
    "### Visualizing the evolution"
   ]
  },
  {
   "cell_type": "markdown",
   "metadata": {},
   "source": [
    "Just to be cool like [Luis Martí](http://nbviewer.ipython.org/github/lmarti/evolutionary-computation-course/blob/master/AEC.03%20-%20Solving%20the%20TSP%20with%20GAs.ipynb), let's create some visualizations for our genetic algorithm's progress by using `matplotlib` animations. To do this, we'll need to record the population as it evolves. "
   ]
  },
  {
   "cell_type": "code",
   "execution_count": null,
   "metadata": {
    "collapsed": false
   },
   "outputs": [],
   "source": [
    "from JSAnimation import IPython_display\n",
    "from matplotlib import animation\n",
    "\n",
    "# create a simple animation\n",
    "fig, ax = plt.subplots()\n",
    "ax.set_xlim([-0.2, 1.2])\n",
    "ax.set_ylim([-0.2, 1.2])\n",
    "sc = ax.scatter([], [], c=colors[0, :, :], s=200, lw=0)\n",
    "\n",
    "def animate(i):\n",
    "    winner = log[i]['winner']\n",
    "    sc.set_offsets(np.array(winner))\n",
    "    return sc,\n",
    "\n",
    "animation.FuncAnimation(fig, animate, frames=60)"
   ]
  },
  {
   "cell_type": "markdown",
   "metadata": {},
   "source": [
    "### Discussion"
   ]
  },
  {
   "cell_type": "markdown",
   "metadata": {},
   "source": [
    "That's a pretty good result. And note that this was done pretty naively: not much thought was put into the mutation rate, or crossover."
   ]
  },
  {
   "cell_type": "code",
   "execution_count": null,
   "metadata": {
    "collapsed": true
   },
   "outputs": [],
   "source": []
  }
 ],
 "metadata": {
  "kernelspec": {
   "display_name": "Python 3",
   "language": "python",
   "name": "python3"
  },
  "language_info": {
   "codemirror_mode": {
    "name": "ipython",
    "version": 3
   },
   "file_extension": ".py",
   "mimetype": "text/x-python",
   "name": "python",
   "nbconvert_exporter": "python",
   "pygments_lexer": "ipython3",
   "version": "3.5.0"
  }
 },
 "nbformat": 4,
 "nbformat_minor": 0
}
